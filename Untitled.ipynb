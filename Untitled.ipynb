{
 "cells": [
  {
   "cell_type": "markdown",
   "id": "cc415b16-1e52-4ebb-9321-71f3d0c434f1",
   "metadata": {},
   "source": [
    "# MARKET METRICS: A Finance & Commerce Deep Dive"
   ]
  },
  {
   "cell_type": "code",
   "execution_count": 1,
   "id": "c52cd25d-8729-4d83-a8a8-1e02288ec67b",
   "metadata": {},
   "outputs": [],
   "source": [
    "import pandas as pd"
   ]
  },
  {
   "cell_type": "code",
   "execution_count": 4,
   "id": "3af80bed-a543-457f-b032-736d3c19073f",
   "metadata": {},
   "outputs": [],
   "source": [
    "#Loading my datasets into databases\n",
    "\n",
    "customers = pd.read_csv(\"customers.csv\")\n",
    "products = pd.read_csv(\"products.csv\")\n",
    "orders = pd.read_csv(\"orders.csv\")\n",
    "transactions = pd.read_csv(\"transactions.csv\")\n",
    "returns = pd.read_csv(\"returns.csv\")\n",
    "marketing = pd.read_csv(\"marketing_traffic.csv\")\n"
   ]
  },
  {
   "cell_type": "code",
   "execution_count": 10,
   "id": "211d5110-327b-4636-aff5-2a98b32d7054",
   "metadata": {},
   "outputs": [
    {
     "name": "stdout",
     "output_type": "stream",
     "text": [
      "\n",
      "CUSTOMERS — (5000, 6)\n",
      "CustomerID    0\n",
      "Name          0\n",
      "Gender        0\n",
      "Age           0\n",
      "Region        0\n",
      "SignupDate    0\n",
      "dtype: int64\n",
      "CustomerID    object\n",
      "Name          object\n",
      "Gender        object\n",
      "Age            int64\n",
      "Region        object\n",
      "SignupDate    object\n",
      "dtype: object\n",
      "\n",
      "PRODUCTS — (48, 5)\n",
      "ProductID      0\n",
      "Category       0\n",
      "SubCategory    0\n",
      "ProductName    0\n",
      "Price          0\n",
      "dtype: int64\n",
      "ProductID       object\n",
      "Category        object\n",
      "SubCategory     object\n",
      "ProductName     object\n",
      "Price          float64\n",
      "dtype: object\n",
      "\n",
      "ORDERS — (20000, 6)\n",
      "OrderID          0\n",
      "CustomerID       0\n",
      "ProductID        0\n",
      "OrderDate        0\n",
      "Quantity         0\n",
      "PaymentMethod    0\n",
      "dtype: int64\n",
      "OrderID          object\n",
      "CustomerID       object\n",
      "ProductID        object\n",
      "OrderDate        object\n",
      "Quantity          int64\n",
      "PaymentMethod    object\n",
      "dtype: object\n",
      "\n",
      "TRANSACTIONS — (20000, 5)\n",
      "TransactionID      0\n",
      "OrderID            0\n",
      "TransactionDate    0\n",
      "Status             0\n",
      "Amount             0\n",
      "dtype: int64\n",
      "TransactionID       object\n",
      "OrderID             object\n",
      "TransactionDate     object\n",
      "Status              object\n",
      "Amount             float64\n",
      "dtype: object\n",
      "\n",
      "RETURNS — (2000, 5)\n",
      "ReturnID        0\n",
      "OrderID         0\n",
      "ReturnDate      0\n",
      "Reason          0\n",
      "RefundAmount    0\n",
      "dtype: int64\n",
      "ReturnID         object\n",
      "OrderID          object\n",
      "ReturnDate       object\n",
      "Reason           object\n",
      "RefundAmount    float64\n",
      "dtype: object\n",
      "\n",
      "MARKETING — (5000, 4)\n",
      "CustomerID           0\n",
      "AcquisitionSource    0\n",
      "FirstVisitDate       0\n",
      "DeviceType           0\n",
      "dtype: int64\n",
      "CustomerID           object\n",
      "AcquisitionSource    object\n",
      "FirstVisitDate       object\n",
      "DeviceType           object\n",
      "dtype: object\n"
     ]
    }
   ],
   "source": [
    "# Creating a loop through all databases\n",
    "\n",
    "for name, df in {\n",
    "    \"customers\": customers,\n",
    "    \"products\": products,\n",
    "    \"orders\": orders,\n",
    "    \"transactions\": transactions,\n",
    "    \"returns\": returns,\n",
    "    \"marketing\": marketing\n",
    "}.items():\n",
    "    print(f\"\\n{name.upper()} — {df.shape}\")\n",
    "    print(df.isnull().sum())\n",
    "    print(df.dtypes)"
   ]
  },
  {
   "cell_type": "code",
   "execution_count": 8,
   "id": "e649f22e-ba76-4ca9-b10d-40e6ad21e495",
   "metadata": {},
   "outputs": [
    {
     "name": "stdout",
     "output_type": "stream",
     "text": [
      "CustomerID           0\n",
      "AcquisitionSource    0\n",
      "FirstVisitDate       0\n",
      "DeviceType           0\n",
      "dtype: int64\n"
     ]
    }
   ],
   "source": [
    "print(df.isnull().sum())"
   ]
  },
  {
   "cell_type": "code",
   "execution_count": 9,
   "id": "6949d046-74d4-4b0d-898a-e787815448a9",
   "metadata": {},
   "outputs": [
    {
     "name": "stdout",
     "output_type": "stream",
     "text": [
      "CustomerID           object\n",
      "AcquisitionSource    object\n",
      "FirstVisitDate       object\n",
      "DeviceType           object\n",
      "dtype: object\n"
     ]
    }
   ],
   "source": [
    "print(df.dtypes)"
   ]
  },
  {
   "cell_type": "code",
   "execution_count": null,
   "id": "1bd1f286-fd49-4799-8164-dc2f8d1e0d14",
   "metadata": {},
   "outputs": [],
   "source": []
  }
 ],
 "metadata": {
  "kernelspec": {
   "display_name": "Python 3 (ipykernel)",
   "language": "python",
   "name": "python3"
  },
  "language_info": {
   "codemirror_mode": {
    "name": "ipython",
    "version": 3
   },
   "file_extension": ".py",
   "mimetype": "text/x-python",
   "name": "python",
   "nbconvert_exporter": "python",
   "pygments_lexer": "ipython3",
   "version": "3.11.7"
  }
 },
 "nbformat": 4,
 "nbformat_minor": 5
}
